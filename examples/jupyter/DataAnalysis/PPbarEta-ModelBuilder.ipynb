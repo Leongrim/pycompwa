{
 "cells": [
  {
   "cell_type": "markdown",
   "metadata": {},
   "source": [
    "## Quickstart: $J/\\Psi \\rightarrow \\gamma \\pi^0 \\pi^0$ decay\n",
    "\n",
    "In this quickstart example it is shown how to use ComPWA via the python interface. The workflow is:\n",
    "\n",
    "1. Create a model for the decay.\n",
    "2. Generate a Monte Carlo data sample (hit & miss) using this model. \n",
    "3. Perform a fit on the data sample using the Minuit2 interface.\n",
    "4. Visualize the data and the fit result!\n",
    "\n",
    "Let's go!\n",
    "\n",
    "First we `import` the necessary expert system module parts"
   ]
  },
  {
   "cell_type": "code",
   "execution_count": 1,
   "metadata": {},
   "outputs": [],
   "source": [
    "from pycompwa.expertsystem.ui.system_control import (\n",
    "    StateTransitionManager, InteractionTypes)\n",
    "from pycompwa.expertsystem.amplitude.helicitydecay import (\n",
    "    HelicityAmplitudeGeneratorXML)\n",
    "from pycompwa.expertsystem.amplitude.canonicaldecay import (\n",
    "   CanonicalAmplitudeGeneratorXML)\n",
    "from pycompwa.expertsystem.state.particle import load_particle_list_from_xml\n",
    "load_particle_list_from_xml(\"particle_list.xml\")\n",
    "# just a little function to print the intermediate states\n",
    "def print_intermediate_states(solutions):\n",
    "    from pycompwa.expertsystem.topology.graph import (\n",
    "        get_intermediate_state_edges)\n",
    "    print(\"intermediate states:\")\n",
    "    intermediate_states = set()\n",
    "    for g in solutions:\n",
    "        edge_id = get_intermediate_state_edges(g)[0]\n",
    "        intermediate_states.add(g.edge_props[edge_id]['@Name'])\n",
    "    print(intermediate_states)"
   ]
  },
  {
   "cell_type": "markdown",
   "metadata": {},
   "source": [
    "### Step 1: Creating the Decay Model\n",
    "\n",
    "#### 1.1. Define problem set\n",
    "\n",
    "First we define the boundary conditions of our physics problem, such as\n",
    "\n",
    "- initial state\n",
    "- final state\n",
    "- formalism type\n",
    "- ...\n",
    "\n",
    "Pass all of that information to the `StateTransitionManager`, which is the main user interface class of the ComPWA expert system"
   ]
  },
  {
   "cell_type": "code",
   "execution_count": 2,
   "metadata": {},
   "outputs": [
    {
     "name": "stdout",
     "output_type": "stream",
     "text": [
      "[('eta', [0]), ('p', [-0.5, 0.5]), ('pbar', [-0.5, 0.5])]\n"
     ]
    }
   ],
   "source": [
    "initial_state = [(\"J/psi\", [-1, 1])]\n",
    "\n",
    "final_state = [(\"eta\", [0]), (\"p\", [-1/2, 1/2]), (\"pbar\", [-1/2, 1/2])]\n",
    "\n",
    "tbd_manager = StateTransitionManager(initial_state, final_state,\n",
    "                                     formalism_type='canonical-helicity',\n",
    "                                     topology_building='isobar')\n",
    "#tbd_manager\n",
    "print(final_state)\n",
    "#final_state = [(\"K_S0\", [0]), (\"sigma+\", [-1/2, 1/2]), (\"pbar\", [-1/2, 1/2])]\n",
    "#tbd_manager.add_final_state_grouping(final_state)"
   ]
  },
  {
   "cell_type": "raw",
   "metadata": {},
   "source": [
    ".. note::\n",
    "   The ``StateTransitionManager`` (STM) is the main user interface class of the\n",
    "   ComPWA expert system. The boundary conditions of your physics problem are \n",
    "   defined here, such as the initial state, final state, formalism type, ...\n",
    "\n",
    "   * ``prepare_graphs()`` of the STM creates all topology graphs, here using\n",
    "     the isobar model (two-body decays). Also it initializes the graphs with\n",
    "     the initial and final state and the a set of conservation laws at each\n",
    "     interaction node.\n",
    "\n",
    "   * By default all three (strong, EM, weak) interaction types are used in the\n",
    "     preparation stage. However it is also possible to globally choose the\n",
    "     allowed interaction types via ``set_allowed_interaction_types()``.\n",
    "\n",
    "   After the preparation step, you can modifiy the settings returned by\n",
    "   ``prepare_graphs()`` to your liking. Since this output is quite a lot of\n",
    "   information, the expertsystem ui is supposed to aid in the configuration\n",
    "   (especially the STM).\n",
    "   \n",
    "   * A subset of particles that are allow as intermediate states can also be\n",
    "     specified in the STM. Either in the ``init()`` of the STM or setting the\n",
    "     instance attribute ``allowed_intermediate_particles``."
   ]
  },
  {
   "cell_type": "markdown",
   "metadata": {},
   "source": [
    "#### 1.2. Preparation\n",
    "Create all topology graphs using the isobar model (two-body decays).\n",
    "\n",
    "Also initialize the graphs with the initial and final state. Remember that each interaction node defines their own set of conservation laws. The `StateTransitionManager` (STM) defines three interaction types:\n",
    "\n",
    "| Interaction | Strength |\n",
    "| --- | --- |\n",
    "| strong | $60$ |\n",
    "| electromagnetic (EM) | $1$ |\n",
    "| weak | $10^{-4}$ |\n",
    "\n",
    "Be default all three are used in the preparation stage. `prepare_graphs()` of the STM generates graphs with all possible combinations of interaction nodes. An overall interaction strength is assigned to each graph, and they are grouped according to this strength."
   ]
  },
  {
   "cell_type": "markdown",
   "metadata": {},
   "source": [
    "#### 1.3. Finding solutions\n",
    "If you are happy with the automatic settings generated by the StateTransitionManager, just go directly to the solving!"
   ]
  },
  {
   "cell_type": "raw",
   "metadata": {},
   "source": [
    ".. note::\n",
    "   This step takes about 30 sec on a Intel(R) Core(TM) i7-6820HQ CPU @ 2.70GHz running multi-threaded"
   ]
  },
  {
   "cell_type": "code",
   "execution_count": 3,
   "metadata": {
    "scrolled": true
   },
   "outputs": [
    {
     "name": "stderr",
     "output_type": "stream",
     "text": [
      "WARNING:root:No intermediate state particles match the found 135 solutions!\n",
      "WARNING:root:solution inter. state J^P: {'2.0-', '1.0-', '1.0+', '2.0+'}\n",
      "WARNING:root:No intermediate state particles match the found 144 solutions!\n",
      "WARNING:root:solution inter. state J^P: {'1.0-', '1.0+', '2.0-', '0.0-', '2.0+'}\n",
      "WARNING:root:No intermediate state particles match the found 135 solutions!\n",
      "WARNING:root:No intermediate state particles match the found 144 solutions!\n",
      "WARNING:root:solution inter. state J^P: {'2.0-', '1.0-', '1.0+', '2.0+'}\n",
      "WARNING:root:solution inter. state J^P: {'1.0-', '1.0+', '2.0-', '0.0-', '2.0+'}\n",
      "WARNING:root:No intermediate state particles match the found 135 solutions!\n",
      "WARNING:root:solution inter. state J^P: {'2.0-', '1.0-', '1.0+', '2.0+'}\n",
      "WARNING:root:No intermediate state particles match the found 135 solutions!\n",
      "WARNING:root:solution inter. state J^P: {'2.0-', '1.0-', '1.0+', '2.0+'}\n",
      "WARNING:root:No intermediate state particles match the found 144 solutions!\n",
      "WARNING:root:solution inter. state J^P: {'1.0-', '1.0+', '2.0-', '0.0-', '2.0+'}\n",
      "WARNING:root:No intermediate state particles match the found 144 solutions!\n",
      "WARNING:root:solution inter. state J^P: {'1.0-', '1.0+', '2.0-', '0.0-', '2.0+'}\n",
      "WARNING:root:No intermediate state particles match the found 144 solutions!\n",
      "WARNING:root:solution inter. state J^P: {'1.0-', '1.0+', '2.0-', '0.0-', '2.0+'}\n",
      "WARNING:root:No intermediate state particles match the found 135 solutions!\n",
      "WARNING:root:solution inter. state J^P: {'2.0-', '1.0-', '1.0+', '2.0+'}\n",
      "WARNING:root:No intermediate state particles match the found 270 solutions!\n",
      "WARNING:root:solution inter. state J^P: {'2.0-', '1.0-', '1.0+', '2.0+'}\n",
      "WARNING:root:No intermediate state particles match the found 135 solutions!\n",
      "WARNING:root:solution inter. state J^P: {'2.0-', '1.0-', '1.0+', '2.0+'}\n",
      "WARNING:root:No intermediate state particles match the found 288 solutions!\n",
      "WARNING:root:solution inter. state J^P: {'1.0-', '1.0+', '2.0-', '0.0-', '2.0+'}\n",
      "WARNING:root:No intermediate state particles match the found 270 solutions!\n",
      "WARNING:root:solution inter. state J^P: {'2.0-', '1.0-', '1.0+', '2.0+'}\n",
      "WARNING:root:No intermediate state particles match the found 144 solutions!\n",
      "WARNING:root:solution inter. state J^P: {'1.0-', '1.0+', '2.0-', '0.0-', '2.0+'}\n",
      "WARNING:root:No intermediate state particles match the found 144 solutions!\n",
      "WARNING:root:solution inter. state J^P: {'1.0-', '1.0+', '2.0-', '0.0-', '2.0+'}\n",
      "WARNING:root:No intermediate state particles match the found 288 solutions!\n",
      "WARNING:root:solution inter. state J^P: {'1.0-', '1.0+', '2.0-', '0.0-', '2.0+'}\n",
      "WARNING:root:No intermediate state particles match the found 135 solutions!\n",
      "WARNING:root:solution inter. state J^P: {'2.0-', '1.0-', '1.0+', '2.0+'}\n",
      "WARNING:root:No intermediate state particles match the found 288 solutions!\n",
      "WARNING:root:solution inter. state J^P: {'1.0-', '1.0+', '2.0-', '0.0-', '2.0+'}\n",
      "WARNING:root:No intermediate state particles match the found 135 solutions!\n",
      "WARNING:root:solution inter. state J^P: {'2.0-', '1.0-', '1.0+', '2.0+'}\n",
      "WARNING:root:No intermediate state particles match the found 270 solutions!\n",
      "WARNING:root:solution inter. state J^P: {'2.0-', '1.0-', '1.0+', '2.0+'}\n",
      "WARNING:root:No intermediate state particles match the found 144 solutions!\n",
      "WARNING:root:solution inter. state J^P: {'1.0-', '1.0+', '2.0-', '0.0-', '2.0+'}\n",
      "WARNING:root:No intermediate state particles match the found 270 solutions!\n",
      "WARNING:root:solution inter. state J^P: {'2.0-', '1.0-', '1.0+', '2.0+'}\n",
      "WARNING:root:No intermediate state particles match the found 288 solutions!\n",
      "WARNING:root:solution inter. state J^P: {'1.0-', '1.0+', '2.0-', '0.0-', '2.0+'}\n",
      "WARNING:root:No intermediate state particles match the found 90 solutions!\n",
      "WARNING:root:solution inter. state J^P: {'2.0-', '1.0-', '1.0+', '2.0+'}\n",
      "WARNING:root:No intermediate state particles match the found 96 solutions!\n",
      "WARNING:root:solution inter. state J^P: {'1.0-', '1.0+', '2.0-', '0.0-', '2.0+'}\n",
      "WARNING:root:No intermediate state particles match the found 90 solutions!\n",
      "WARNING:root:solution inter. state J^P: {'2.0-', '1.0-', '1.0+', '2.0+'}\n",
      "WARNING:root:No intermediate state particles match the found 96 solutions!\n",
      "WARNING:root:solution inter. state J^P: {'1.0-', '1.0+', '2.0-', '0.0-', '2.0+'}\n",
      "WARNING:root:No intermediate state particles match the found 96 solutions!\n",
      "WARNING:root:solution inter. state J^P: {'1.0-', '1.0+', '2.0-', '0.0-', '2.0+'}\n",
      "WARNING:root:No intermediate state particles match the found 90 solutions!\n",
      "WARNING:root:solution inter. state J^P: {'2.0-', '1.0-', '1.0+', '2.0+'}\n",
      "WARNING:root:No intermediate state particles match the found 90 solutions!\n",
      "WARNING:root:solution inter. state J^P: {'2.0-', '1.0-', '1.0+', '2.0+'}\n",
      "WARNING:root:No intermediate state particles match the found 96 solutions!\n",
      "WARNING:root:solution inter. state J^P: {'1.0-', '1.0+', '2.0-', '0.0-', '2.0+'}\n",
      "WARNING:root:No intermediate state particles match the found 306 solutions!\n",
      "WARNING:root:solution inter. state J^P: {'2.0-', '1.0-', '1.0+', '2.0+'}\n",
      "WARNING:root:No intermediate state particles match the found 324 solutions!\n",
      "WARNING:root:solution inter. state J^P: {'1.0-', '1.0+', '2.0-', '0.0-', '2.0+'}\n",
      "WARNING:root:No intermediate state particles match the found 648 solutions!\n",
      "WARNING:root:solution inter. state J^P: {'1.0-', '1.0+', '2.0-', '0.0+', '0.0-', '2.0+'}\n",
      "WARNING:root:No intermediate state particles match the found 306 solutions!\n",
      "WARNING:root:solution inter. state J^P: {'2.0-', '1.0-', '1.0+', '2.0+'}\n",
      "WARNING:root:No intermediate state particles match the found 612 solutions!\n",
      "WARNING:root:solution inter. state J^P: {'2.0-', '1.0+', '1.0-', '2.0+'}\n",
      "WARNING:root:No intermediate state particles match the found 324 solutions!\n",
      "WARNING:root:solution inter. state J^P: {'1.0-', '1.0+', '2.0-', '0.0-', '2.0+'}\n",
      "WARNING:root:No intermediate state particles match the found 612 solutions!\n",
      "WARNING:root:solution inter. state J^P: {'2.0-', '1.0+', '1.0-', '2.0+'}\n",
      "WARNING:root:No intermediate state particles match the found 324 solutions!\n",
      "WARNING:root:solution inter. state J^P: {'1.0-', '1.0+', '2.0-', '0.0-', '2.0+'}\n",
      "WARNING:root:No intermediate state particles match the found 648 solutions!\n",
      "WARNING:root:solution inter. state J^P: {'1.0-', '1.0+', '2.0-', '0.0+', '0.0-', '2.0+'}\n",
      "WARNING:root:No intermediate state particles match the found 648 solutions!\n",
      "WARNING:root:solution inter. state J^P: {'1.0-', '1.0+', '2.0-', '0.0+', '0.0-', '2.0+'}\n",
      "WARNING:root:No intermediate state particles match the found 612 solutions!\n",
      "WARNING:root:solution inter. state J^P: {'2.0-', '1.0+', '1.0-', '2.0+'}\n",
      "WARNING:root:No intermediate state particles match the found 306 solutions!\n",
      "WARNING:root:solution inter. state J^P: {'2.0-', '1.0-', '1.0+', '2.0+'}\n",
      "WARNING:root:No intermediate state particles match the found 306 solutions!\n",
      "WARNING:root:solution inter. state J^P: {'2.0-', '1.0-', '1.0+', '2.0+'}\n",
      "WARNING:root:No intermediate state particles match the found 612 solutions!\n",
      "WARNING:root:solution inter. state J^P: {'2.0-', '1.0+', '1.0-', '2.0+'}\n",
      "WARNING:root:No intermediate state particles match the found 324 solutions!\n",
      "WARNING:root:solution inter. state J^P: {'1.0-', '1.0+', '2.0-', '0.0-', '2.0+'}\n",
      "WARNING:root:No intermediate state particles match the found 648 solutions!\n",
      "WARNING:root:solution inter. state J^P: {'1.0-', '1.0+', '2.0-', '0.0+', '0.0-', '2.0+'}\n",
      "WARNING:root:No intermediate state particles match the found 204 solutions!\n",
      "WARNING:root:solution inter. state J^P: {'2.0-', '1.0-', '1.0+', '2.0+'}\n",
      "WARNING:root:No intermediate state particles match the found 216 solutions!\n",
      "WARNING:root:solution inter. state J^P: {'1.0-', '1.0+', '2.0-', '0.0-', '2.0+'}\n",
      "WARNING:root:No intermediate state particles match the found 216 solutions!\n",
      "WARNING:root:solution inter. state J^P: {'1.0-', '1.0+', '2.0-', '0.0+', '0.0-', '2.0+'}\n",
      "WARNING:root:No intermediate state particles match the found 204 solutions!\n",
      "WARNING:root:solution inter. state J^P: {'2.0-', '1.0-', '1.0+', '2.0+'}\n",
      "WARNING:root:No intermediate state particles match the found 204 solutions!\n",
      "WARNING:root:solution inter. state J^P: {'2.0-', '1.0-', '1.0+', '2.0+'}\n",
      "WARNING:root:No intermediate state particles match the found 216 solutions!\n"
     ]
    },
    {
     "name": "stderr",
     "output_type": "stream",
     "text": [
      "WARNING:root:solution inter. state J^P: {'1.0-', '1.0+', '2.0-', '0.0+', '0.0-', '2.0+'}\n",
      "WARNING:root:No intermediate state particles match the found 204 solutions!\n",
      "WARNING:root:solution inter. state J^P: {'2.0-', '1.0-', '1.0+', '2.0+'}\n",
      "WARNING:root:No intermediate state particles match the found 216 solutions!\n",
      "WARNING:root:solution inter. state J^P: {'1.0-', '1.0+', '2.0-', '0.0-', '2.0+'}\n",
      "WARNING:root:No intermediate state particles match the found 216 solutions!\n",
      "WARNING:root:solution inter. state J^P: {'1.0-', '1.0+', '2.0-', '0.0+', '0.0-', '2.0+'}\n",
      "WARNING:root:No intermediate state particles match the found 204 solutions!\n",
      "WARNING:root:solution inter. state J^P: {'2.0-', '1.0-', '1.0+', '2.0+'}\n",
      "WARNING:root:No intermediate state particles match the found 204 solutions!\n",
      "WARNING:root:No intermediate state particles match the found 216 solutions!\n",
      "WARNING:root:solution inter. state J^P: {'2.0-', '1.0-', '1.0+', '2.0+'}\n",
      "WARNING:root:solution inter. state J^P: {'1.0-', '1.0+', '2.0-', '0.0-', '2.0+'}\n",
      "WARNING:root:No intermediate state particles match the found 204 solutions!\n",
      "WARNING:root:solution inter. state J^P: {'2.0-', '1.0-', '1.0+', '2.0+'}\n",
      "WARNING:root:No intermediate state particles match the found 204 solutions!\n",
      "WARNING:root:solution inter. state J^P: {'2.0-', '1.0-', '1.0+', '2.0+'}\n",
      "WARNING:root:No intermediate state particles match the found 216 solutions!\n",
      "WARNING:root:solution inter. state J^P: {'1.0-', '1.0+', '2.0-', '0.0+', '0.0-', '2.0+'}\n",
      "WARNING:root:No intermediate state particles match the found 216 solutions!\n",
      "WARNING:root:solution inter. state J^P: {'1.0-', '1.0+', '2.0-', '0.0-', '2.0+'}\n",
      "WARNING:root:No intermediate state particles match the found 1088 solutions!\n",
      "WARNING:root:solution inter. state J^P: {'2.0-', '1.0-', '1.0+', '2.0+'}\n",
      "WARNING:root:No intermediate state particles match the found 1088 solutions!\n",
      "WARNING:root:solution inter. state J^P: {'2.0-', '1.0-', '1.0+', '2.0+'}\n",
      "WARNING:root:No intermediate state particles match the found 1152 solutions!\n",
      "WARNING:root:solution inter. state J^P: {'1.0-', '1.0+', '2.0-', '0.0+', '0.0-', '2.0+'}\n",
      "WARNING:root:No intermediate state particles match the found 1152 solutions!\n",
      "WARNING:root:solution inter. state J^P: {'1.0-', '1.0+', '2.0-', '0.0+', '0.0-', '2.0+'}\n",
      "WARNING:root:No intermediate state particles match the found 1088 solutions!\n",
      "WARNING:root:solution inter. state J^P: {'2.0-', '1.0-', '1.0+', '2.0+'}\n",
      "WARNING:root:No intermediate state particles match the found 1088 solutions!\n",
      "WARNING:root:solution inter. state J^P: {'2.0-', '1.0-', '1.0+', '2.0+'}\n",
      "WARNING:root:No intermediate state particles match the found 1152 solutions!\n",
      "WARNING:root:solution inter. state J^P: {'1.0-', '1.0+', '2.0-', '0.0+', '0.0-', '2.0+'}\n",
      "WARNING:root:No intermediate state particles match the found 1152 solutions!\n",
      "WARNING:root:solution inter. state J^P: {'1.0-', '1.0+', '2.0-', '0.0+', '0.0-', '2.0+'}\n"
     ]
    },
    {
     "name": "stdout",
     "output_type": "stream",
     "text": [
      "found 192 solutions!\n",
      "intermediate states:\n",
      "{'N(1650)+', 'N(1650)-'}\n"
     ]
    }
   ],
   "source": [
    "tbd_manager.allowed_intermediate_particles = [\"N(1650)+\",\"N(1650)-\"]\n",
    "#tbd_manager.set_allowed_interaction_types(\n",
    "#    [InteractionTypes.Strong, InteractionTypes.EM, InteractionTypes.Weak])\n",
    "graph_interaction_settings_groups = tbd_manager.prepare_graphs()\n",
    "(solutions, violated_rules) = tbd_manager.find_solutions(\n",
    "        graph_interaction_settings_groups)\n",
    "print(\"found \" + str(len(solutions)) + \" solutions!\")\n",
    "print_intermediate_states(solutions)\n",
    "if len(solutions)<1:\n",
    "    raise ValueError(\"Number of Solutions is to low\")"
   ]
  },
  {
   "cell_type": "code",
   "execution_count": 4,
   "metadata": {},
   "outputs": [],
   "source": [
    "xml_generator = CanonicalAmplitudeGeneratorXML()\n",
    "xml_generator.generate(solutions)\n",
    "xml_generator.write_to_file('ModelPPbarEta.xml')"
   ]
  }
 ],
 "metadata": {
  "kernelspec": {
   "display_name": "Python 2",
   "language": "python",
   "name": "python2"
  },
  "language_info": {
   "codemirror_mode": {
    "name": "ipython",
    "version": 3
   },
   "file_extension": ".py",
   "mimetype": "text/x-python",
   "name": "python",
   "nbconvert_exporter": "python",
   "pygments_lexer": "ipython3",
   "version": "3.7.3"
  }
 },
 "nbformat": 4,
 "nbformat_minor": 2
}
